{
  "nbformat": 4,
  "nbformat_minor": 0,
  "metadata": {
    "colab": {
      "provenance": []
    },
    "kernelspec": {
      "name": "python3",
      "display_name": "Python 3"
    },
    "language_info": {
      "name": "python"
    }
  },
  "cells": [
    {
      "cell_type": "markdown",
      "source": [
        "#Solution to Exercises- Introduction to python"
      ],
      "metadata": {
        "id": "YdccqQRJAyWk"
      }
    },
    {
      "cell_type": "markdown",
      "source": [
        "### 1.Beginner\n",
        "A function that converts temperatures from Fahrenheit to Celsius and vice versa.\n",
        "\n",
        "1. Formula for Fahrenheit to Celsius: C = (F - 32) * 5/9\n",
        "2. Formula for Celsius to Fahrenheit: F = C * 9/5 + 32"
      ],
      "metadata": {
        "id": "gWG0NxluAyhg"
      }
    },
    {
      "cell_type": "code",
      "source": [
        "def convert_temperature(temp, to_scale):\n",
        "    if to_scale.lower() == 'celsius':\n",
        "        return (temp - 32) * 5/9\n",
        "    elif to_scale.lower() == 'fahrenheit':\n",
        "        return temp * 9/5 + 32\n",
        "    else:\n",
        "        return \"Invalid scale\"\n"
      ],
      "metadata": {
        "id": "lLSEpmBhBOOq"
      },
      "execution_count": 10,
      "outputs": []
    },
    {
      "cell_type": "code",
      "source": [
        "# Testing\n",
        "print(convert_temperature(100, 'celsius'))      # Output: 37.78\n",
        "print(convert_temperature(37.78, 'fahrenheit')) # Output: 100"
      ],
      "metadata": {
        "colab": {
          "base_uri": "https://localhost:8080/"
        },
        "id": "52tG1CgVBaHu",
        "outputId": "9352869f-a9ae-4722-b033-f87ceea31f33"
      },
      "execution_count": 11,
      "outputs": [
        {
          "output_type": "stream",
          "name": "stdout",
          "text": [
            "37.77777777777778\n",
            "100.00399999999999\n"
          ]
        }
      ]
    },
    {
      "cell_type": "markdown",
      "source": [],
      "metadata": {
        "id": "928-GPP-Bfuj"
      }
    },
    {
      "cell_type": "markdown",
      "source": [
        "#### 2. INTERMEDIATE LEVEL\n",
        "Given a list of daily temperatures in Celsius over a week, write a function to calculate:\n",
        "1. The average temperature.\n",
        "2. The highest and lowest temperatures.\n",
        "3. The number of days above the weekly average."
      ],
      "metadata": {
        "id": "ZUUmveNxBib9"
      }
    },
    {
      "cell_type": "code",
      "source": [
        "def summarize_temperatures(temperatures):\n",
        "    avg_temp = sum(temperatures) / len(temperatures)\n",
        "    max_temp = max(temperatures)\n",
        "    min_temp = min(temperatures)\n",
        "    days_above_avg = sum(1 for temp in temperatures if temp > avg_temp)\n",
        "    return {\"Average\": avg_temp, \"Max\": max_temp, \"Min\": min_temp, \"Days Above Avg\": days_above_avg}\n"
      ],
      "metadata": {
        "id": "hqwPD819BhX8"
      },
      "execution_count": 12,
      "outputs": []
    },
    {
      "cell_type": "code",
      "source": [
        "# Test the function\n",
        "temperatures = [22, 26, 24, 20, 28, 30, 19]\n",
        "summarize_temperatures(temperatures) # Output: {\"Average\": 24.14, \"Max\": 30, \"Min\": 19, \"Days Above Avg\": 3}\n"
      ],
      "metadata": {
        "colab": {
          "base_uri": "https://localhost:8080/"
        },
        "id": "52gDj36zClTm",
        "outputId": "017f7396-20a5-45ec-eed2-97374a030e51"
      },
      "execution_count": 13,
      "outputs": [
        {
          "output_type": "execute_result",
          "data": {
            "text/plain": [
              "{'Average': 24.142857142857142, 'Max': 30, 'Min': 19, 'Days Above Avg': 3}"
            ]
          },
          "metadata": {},
          "execution_count": 13
        }
      ]
    },
    {
      "cell_type": "markdown",
      "source": [],
      "metadata": {
        "id": "6qDCblP-CpEG"
      }
    },
    {
      "cell_type": "markdown",
      "source": [
        "##### 3. ADVANCED LEVEL\n",
        "Using a list of text reviews, write a function to perform a basic sentiment analysis by counting positive and negative words in each review.\n",
        "1. Maintain a small list of positive and negative words.\n",
        "2. For each review, assign it a positive or negative score."
      ],
      "metadata": {
        "id": "S33TbLkbCpp5"
      }
    },
    {
      "cell_type": "code",
      "source": [
        "def analyze_sentiment(reviews):\n",
        "    positive_words = [\"good\", \"excellent\", \"great\", \"love\", \"nice\"]\n",
        "    negative_words = [\"bad\", \"terrible\", \"poor\", \"hate\", \"disappoint\"]\n",
        "    sentiments = []\n",
        "    for review in reviews:\n",
        "        score = 0\n",
        "        words = review.lower().split()\n",
        "        score += sum(1 for word in words if word in positive_words)\n",
        "        score -= sum(1 for word in words if word in negative_words)\n",
        "        sentiments.append(\"Positive\" if score > 0 else \"Negative\" if score < 0 else \"Neutral\")\n",
        "    return sentiments"
      ],
      "metadata": {
        "id": "RBXybbltC7MX"
      },
      "execution_count": 14,
      "outputs": []
    },
    {
      "cell_type": "code",
      "source": [
        "# Test reviews\n",
        "reviews = [\"The product is excellent\", \"Very bad experience\", \"I love this item\"]\n",
        "analyze_sentiment(reviews) # Output: [\"Positive\", \"Negative\", \"Positive\"]\n"
      ],
      "metadata": {
        "colab": {
          "base_uri": "https://localhost:8080/"
        },
        "id": "HWPhQFpjC3n6",
        "outputId": "46f588e5-dd62-4df6-efec-dc4c51649eab"
      },
      "execution_count": 15,
      "outputs": [
        {
          "output_type": "execute_result",
          "data": {
            "text/plain": [
              "['Positive', 'Negative', 'Positive']"
            ]
          },
          "metadata": {},
          "execution_count": 15
        }
      ]
    },
    {
      "cell_type": "markdown",
      "source": [],
      "metadata": {
        "id": "_eor2507DMIR"
      }
    },
    {
      "cell_type": "markdown",
      "source": [
        "#### 4.EXPERT LEVEL\n",
        "Using a dataset of house prices, create a linear regression model that predicts prices based on features like `sqft`, `number_of_rooms`, `location_score`, etc."
      ],
      "metadata": {
        "id": "SjUhblCoDL8k"
      }
    },
    {
      "cell_type": "code",
      "source": [
        "# Import libraries\n",
        "import pandas as pd\n",
        "from sklearn.model_selection import train_test_split\n",
        "from sklearn.linear_model import LinearRegression\n",
        "from sklearn.metrics import mean_squared_error\n"
      ],
      "metadata": {
        "id": "Y28E8Sr3DZfi"
      },
      "execution_count": 16,
      "outputs": []
    }
  ]
}