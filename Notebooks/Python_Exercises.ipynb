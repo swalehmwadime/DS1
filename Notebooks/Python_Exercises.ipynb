{
  "nbformat": 4,
  "nbformat_minor": 0,
  "metadata": {
    "colab": {
      "provenance": []
    },
    "kernelspec": {
      "name": "python3",
      "display_name": "Python 3"
    },
    "language_info": {
      "name": "python"
    }
  },
  "cells": [
    {
      "cell_type": "markdown",
      "source": [
        "## <b>Introduction to Python Exercises</b>\n",
        "\n",
        "In this notebook, you will work through a series of exercises,\n",
        "starting from beginner-level challenges and progressing to more advanced tasks. Try solving each exercise before\n",
        "checking the solution in the following cells."
      ],
      "metadata": {
        "id": "o0Y9pTt86Er6"
      }
    },
    {
      "cell_type": "markdown",
      "source": [
        "**Table of Contents**\n",
        "1. Beginner Level\n",
        "2. Intermediate Level\n",
        "3. Advanced Level\n",
        "4. Expert Level\n",
        "\n",
        "Each section will have problem statements, code cells for learners to work on, and solution cells with answers."
      ],
      "metadata": {
        "id": "cvcw-t2V69oF"
      }
    },
    {
      "cell_type": "markdown",
      "source": [
        " BEGINNER LEVEL\n",
        "# --------------------------\n",
        "\n",
        "# Exercise 1: Temperature Converter\n",
        "\n",
        "### Exercise 1: Temperature Converter\n",
        "Write a function that converts temperatures from Fahrenheit to Celsius and vice versa.\n",
        "\n",
        "- **Formula for Fahrenheit to Celsius**: `C = (F - 32) * 5/9`\n",
        "- **Formula for Celsius to Fahrenheit**: `F = C * 9/5 + 32`\n"
      ],
      "metadata": {
        "id": "4K84yWLn7jDD"
      }
    },
    {
      "cell_type": "code",
      "source": [
        "#Write code here"
      ],
      "metadata": {
        "id": "FDoMB-AS9lXT"
      },
      "execution_count": null,
      "outputs": []
    },
    {
      "cell_type": "code",
      "source": [],
      "metadata": {
        "id": "SIs1d_sQ9k_U"
      },
      "execution_count": null,
      "outputs": []
    },
    {
      "cell_type": "markdown",
      "source": [
        "# INTERMEDIATE LEVEL\n",
        "# --------------------------\n",
        "\n",
        "## Exercise 2: Data Summarizer\n",
        "Given a list of daily temperatures in Celsius over a week, write a function to calculate:\n",
        "1. The average temperature.\n",
        "2. The highest and lowest temperatures.\n",
        "3. The number of days above the weekly average."
      ],
      "metadata": {
        "id": "OtuZrgVS6hon"
      }
    },
    {
      "cell_type": "code",
      "source": [
        "#Write code here"
      ],
      "metadata": {
        "id": "zi_QTL078a_M"
      },
      "execution_count": null,
      "outputs": []
    },
    {
      "cell_type": "code",
      "source": [],
      "metadata": {
        "id": "mI-23ZNz9sEP"
      },
      "execution_count": null,
      "outputs": []
    },
    {
      "cell_type": "markdown",
      "source": [
        "# ADVANCED LEVEL\n",
        "# --------------------------\n",
        "\n",
        "### Exercise 3: Sentiment Analysis of Product Reviews\n",
        "Using a list of text reviews, write a function to perform a basic sentiment analysis by counting positive and negative words in each review.\n",
        "1. Maintain a small list of positive and negative words.\n",
        "2. For each review, assign it a positive or negative score.\n"
      ],
      "metadata": {
        "id": "uVNAL11Y8mGk"
      }
    },
    {
      "cell_type": "code",
      "source": [
        "#Write code here"
      ],
      "metadata": {
        "id": "jh36WsZ59Air"
      },
      "execution_count": null,
      "outputs": []
    },
    {
      "cell_type": "code",
      "source": [],
      "metadata": {
        "id": "Ed-DhriW9wN4"
      },
      "execution_count": null,
      "outputs": []
    },
    {
      "cell_type": "code",
      "source": [],
      "metadata": {
        "id": "5ZbVRpzo9vz-"
      },
      "execution_count": null,
      "outputs": []
    },
    {
      "cell_type": "markdown",
      "source": [
        "# EXPERT LEVEL\n",
        "# --------------------------\n",
        "\n",
        "### Exercise 4: Predicting House Prices Using Linear Regression\n",
        "Using a dataset of house prices, create a linear regression model that predicts prices based on features like `sqft`, `number_of_rooms`, `location_score`, etc.\n",
        "\"\"\""
      ],
      "metadata": {
        "id": "wbHsPnXj8_Kb"
      }
    },
    {
      "cell_type": "code",
      "source": [
        "#Write code here"
      ],
      "metadata": {
        "id": "HfR4zYkH9zjJ"
      },
      "execution_count": null,
      "outputs": []
    },
    {
      "cell_type": "code",
      "source": [],
      "metadata": {
        "id": "A3nkePuM9zWa"
      },
      "execution_count": null,
      "outputs": []
    }
  ]
}